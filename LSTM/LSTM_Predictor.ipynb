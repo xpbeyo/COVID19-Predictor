{
  "nbformat": 4,
  "nbformat_minor": 0,
  "metadata": {
    "colab": {
      "name": "LSTM_Predictor.ipynb",
      "provenance": [],
      "collapsed_sections": []
    },
    "kernelspec": {
      "name": "python3",
      "display_name": "Python 3"
    },
    "language_info": {
      "name": "python"
    },
    "accelerator": "GPU"
  },
  "cells": [
    {
      "cell_type": "code",
      "metadata": {
        "id": "MrM0E05w4HGx"
      },
      "source": [
        "import pandas as pd\n",
        "import numpy as np\n",
        "import matplotlib.pyplot as plt\n",
        "import requests\n",
        "from io import StringIO\n",
        "import json"
      ],
      "execution_count": 81,
      "outputs": []
    },
    {
      "cell_type": "code",
      "metadata": {
        "id": "b04y13ooeJWp"
      },
      "source": [
        "def download_csv(url):\n",
        "  req = requests.get(url).content\n",
        "  return pd.read_csv(StringIO(req.decode(\"utf-8\")))"
      ],
      "execution_count": 82,
      "outputs": []
    },
    {
      "cell_type": "code",
      "metadata": {
        "id": "ZmeK3Pg2tbUh"
      },
      "source": [
        "def get_device():\n",
        "    if torch.cuda.is_available():\n",
        "        device = torch.device('cuda:0')\n",
        "    else:\n",
        "        device = torch.device('cpu') # don't have GPU \n",
        "    return device"
      ],
      "execution_count": 83,
      "outputs": []
    },
    {
      "cell_type": "code",
      "metadata": {
        "id": "Z6KzouLy5z0V"
      },
      "source": [
        "covid19_sg_df = download_csv(\"https://raw.githubusercontent.com/hxchua/datadoubleconfirm/master/datasets/covid19_sg.csv\")"
      ],
      "execution_count": 84,
      "outputs": []
    },
    {
      "cell_type": "code",
      "metadata": {
        "colab": {
          "base_uri": "https://localhost:8080/",
          "height": 35
        },
        "id": "RibixpZQ86_9",
        "outputId": "27d1b26e-9b5c-4c98-ffd8-0810959f8e43"
      },
      "source": [
        "start_date = covid19_sg_df[\"Date\"][0]\n",
        "start_date"
      ],
      "execution_count": 85,
      "outputs": [
        {
          "output_type": "execute_result",
          "data": {
            "application/vnd.google.colaboratory.intrinsic+json": {
              "type": "string"
            },
            "text/plain": [
              "'2020-01-23'"
            ]
          },
          "metadata": {
            "tags": []
          },
          "execution_count": 85
        }
      ]
    },
    {
      "cell_type": "code",
      "metadata": {
        "colab": {
          "base_uri": "https://localhost:8080/",
          "height": 309
        },
        "id": "uePo89s48jKT",
        "outputId": "c68177bf-259c-4133-92ef-179a71d07f8a"
      },
      "source": [
        "covid19_sg_df.tail()"
      ],
      "execution_count": 86,
      "outputs": [
        {
          "output_type": "execute_result",
          "data": {
            "text/html": [
              "<div>\n",
              "<style scoped>\n",
              "    .dataframe tbody tr th:only-of-type {\n",
              "        vertical-align: middle;\n",
              "    }\n",
              "\n",
              "    .dataframe tbody tr th {\n",
              "        vertical-align: top;\n",
              "    }\n",
              "\n",
              "    .dataframe thead th {\n",
              "        text-align: right;\n",
              "    }\n",
              "</style>\n",
              "<table border=\"1\" class=\"dataframe\">\n",
              "  <thead>\n",
              "    <tr style=\"text-align: right;\">\n",
              "      <th></th>\n",
              "      <th>Date</th>\n",
              "      <th>Daily_Confirmed_</th>\n",
              "      <th>False_Positives_Found</th>\n",
              "      <th>Cumulative_Confirmed</th>\n",
              "      <th>Daily_Discharged</th>\n",
              "      <th>Passed_but_not_due_to_COVID</th>\n",
              "      <th>Cumulative_Discharged</th>\n",
              "      <th>Discharged_to_Isolation</th>\n",
              "      <th>Still_Hospitalised</th>\n",
              "      <th>Daily_Deaths</th>\n",
              "      <th>Cumulative_Deaths</th>\n",
              "      <th>Tested_positive_demise</th>\n",
              "      <th>Daily_Imported</th>\n",
              "      <th>Daily_Local_transmission</th>\n",
              "      <th>Local_cases_residing_in_dorms_MOH_report</th>\n",
              "      <th>Local_cases_not_residing_in_doms_MOH_report</th>\n",
              "      <th>Intensive_Care_Unit_(ICU)</th>\n",
              "      <th>General_Wards_MOH_report</th>\n",
              "      <th>In_Isolation_MOH_report</th>\n",
              "      <th>Total_Completed_Isolation_MOH_report</th>\n",
              "      <th>Total_Hospital_Discharged_MOH_report</th>\n",
              "    </tr>\n",
              "  </thead>\n",
              "  <tbody>\n",
              "    <tr>\n",
              "      <th>444</th>\n",
              "      <td>2021-04-11</td>\n",
              "      <td>20</td>\n",
              "      <td>0.0</td>\n",
              "      <td>60653</td>\n",
              "      <td>13</td>\n",
              "      <td>0</td>\n",
              "      <td>60357</td>\n",
              "      <td>230</td>\n",
              "      <td>28</td>\n",
              "      <td>0</td>\n",
              "      <td>30</td>\n",
              "      <td>0</td>\n",
              "      <td>19</td>\n",
              "      <td>1</td>\n",
              "      <td>1.0</td>\n",
              "      <td>0.0</td>\n",
              "      <td>1</td>\n",
              "      <td>57.0</td>\n",
              "      <td>230.0</td>\n",
              "      <td>57118.0</td>\n",
              "      <td>3217.0</td>\n",
              "    </tr>\n",
              "    <tr>\n",
              "      <th>445</th>\n",
              "      <td>2021-04-12</td>\n",
              "      <td>25</td>\n",
              "      <td>0.0</td>\n",
              "      <td>60678</td>\n",
              "      <td>22</td>\n",
              "      <td>0</td>\n",
              "      <td>60379</td>\n",
              "      <td>235</td>\n",
              "      <td>26</td>\n",
              "      <td>0</td>\n",
              "      <td>30</td>\n",
              "      <td>0</td>\n",
              "      <td>25</td>\n",
              "      <td>0</td>\n",
              "      <td>0.0</td>\n",
              "      <td>0.0</td>\n",
              "      <td>1</td>\n",
              "      <td>55.0</td>\n",
              "      <td>235.0</td>\n",
              "      <td>57135.0</td>\n",
              "      <td>3222.0</td>\n",
              "    </tr>\n",
              "    <tr>\n",
              "      <th>446</th>\n",
              "      <td>2021-04-13</td>\n",
              "      <td>14</td>\n",
              "      <td>0.0</td>\n",
              "      <td>60692</td>\n",
              "      <td>17</td>\n",
              "      <td>0</td>\n",
              "      <td>60396</td>\n",
              "      <td>227</td>\n",
              "      <td>31</td>\n",
              "      <td>0</td>\n",
              "      <td>30</td>\n",
              "      <td>0</td>\n",
              "      <td>14</td>\n",
              "      <td>0</td>\n",
              "      <td>0.0</td>\n",
              "      <td>0.0</td>\n",
              "      <td>1</td>\n",
              "      <td>60.0</td>\n",
              "      <td>227.0</td>\n",
              "      <td>57146.0</td>\n",
              "      <td>3228.0</td>\n",
              "    </tr>\n",
              "    <tr>\n",
              "      <th>447</th>\n",
              "      <td>2021-04-14</td>\n",
              "      <td>27</td>\n",
              "      <td>0.0</td>\n",
              "      <td>60719</td>\n",
              "      <td>18</td>\n",
              "      <td>0</td>\n",
              "      <td>60414</td>\n",
              "      <td>236</td>\n",
              "      <td>31</td>\n",
              "      <td>0</td>\n",
              "      <td>30</td>\n",
              "      <td>0</td>\n",
              "      <td>26</td>\n",
              "      <td>1</td>\n",
              "      <td>0.0</td>\n",
              "      <td>1.0</td>\n",
              "      <td>2</td>\n",
              "      <td>59.0</td>\n",
              "      <td>236.0</td>\n",
              "      <td>57161.0</td>\n",
              "      <td>3231.0</td>\n",
              "    </tr>\n",
              "    <tr>\n",
              "      <th>448</th>\n",
              "      <td>2021-04-15</td>\n",
              "      <td>16</td>\n",
              "      <td>0.0</td>\n",
              "      <td>60735</td>\n",
              "      <td>25</td>\n",
              "      <td>0</td>\n",
              "      <td>60439</td>\n",
              "      <td>231</td>\n",
              "      <td>27</td>\n",
              "      <td>0</td>\n",
              "      <td>30</td>\n",
              "      <td>0</td>\n",
              "      <td>16</td>\n",
              "      <td>0</td>\n",
              "      <td>0.0</td>\n",
              "      <td>0.0</td>\n",
              "      <td>2</td>\n",
              "      <td>55.0</td>\n",
              "      <td>231.0</td>\n",
              "      <td>57183.0</td>\n",
              "      <td>3234.0</td>\n",
              "    </tr>\n",
              "  </tbody>\n",
              "</table>\n",
              "</div>"
            ],
            "text/plain": [
              "           Date  ...  Total_Hospital_Discharged_MOH_report\n",
              "444  2021-04-11  ...                                3217.0\n",
              "445  2021-04-12  ...                                3222.0\n",
              "446  2021-04-13  ...                                3228.0\n",
              "447  2021-04-14  ...                                3231.0\n",
              "448  2021-04-15  ...                                3234.0\n",
              "\n",
              "[5 rows x 21 columns]"
            ]
          },
          "metadata": {
            "tags": []
          },
          "execution_count": 86
        }
      ]
    },
    {
      "cell_type": "code",
      "metadata": {
        "colab": {
          "base_uri": "https://localhost:8080/",
          "height": 282
        },
        "id": "fwx6XGfg7pOy",
        "outputId": "d2a4dda9-66cb-4528-8dbe-fcedb1d5c1cd"
      },
      "source": [
        "plt.plot(covid19_sg_df.index, covid19_sg_df[\"Daily_Confirmed_\"])"
      ],
      "execution_count": 87,
      "outputs": [
        {
          "output_type": "execute_result",
          "data": {
            "text/plain": [
              "[<matplotlib.lines.Line2D at 0x7f809fb1e590>]"
            ]
          },
          "metadata": {
            "tags": []
          },
          "execution_count": 87
        },
        {
          "output_type": "display_data",
          "data": {
            "image/png": "[encoded data removed]",
            "text/plain": [
              "<Figure size 432x288 with 1 Axes>"
            ]
          },
          "metadata": {
            "tags": [],
            "needs_background": "light"
          }
        }
      ]
    },
    {
      "cell_type": "code",
      "metadata": {
        "id": "FNg-VGB0lR59"
      },
      "source": [
        "import torch"
      ],
      "execution_count": 88,
      "outputs": []
    },
    {
      "cell_type": "code",
      "metadata": {
        "id": "M9FU_xOqpG0W"
      },
      "source": [
        "# Reference: https://github.com/pytorch/examples/tree/master/time_sequence_prediction\n",
        "class LSTM_Predictor(torch.nn.Module):\n",
        "  def __init__(self, hidden_size):\n",
        "    super(LSTM_Predictor, self).__init__()\n",
        "    self.hidden_size = hidden_size\n",
        "    self.lstm1 = torch.nn.LSTMCell(1, self.hidden_size)\n",
        "    self.lstm2 = torch.nn.LSTMCell(self.hidden_size, self.hidden_size)\n",
        "    self.nn = torch.nn.Sequential(\n",
        "      torch.nn.Linear(self.hidden_size, int(self.hidden_size / 2)),\n",
        "      torch.nn.Dropout(0.5),\n",
        "      torch.nn.ReLU(),\n",
        "      torch.nn.Linear(int(self.hidden_size / 2), 1)\n",
        "    )\n",
        "    \n",
        "  def forward(self, input, future=0):\n",
        "    outputs = []\n",
        "    h_t = torch.zeros(input.size(0), self.hidden_size, dtype=torch.double).cuda()\n",
        "    c_t = torch.zeros(input.size(0), self.hidden_size, dtype=torch.double).cuda()\n",
        "    h_t2 = torch.zeros(input.size(0), self.hidden_size, dtype=torch.double).cuda()\n",
        "    c_t2 = torch.zeros(input.size(0), self.hidden_size, dtype=torch.double).cuda()\n",
        "\n",
        "    for input_t in input.split(1, dim=1):\n",
        "        h_t, c_t = self.lstm1(input_t, (h_t, c_t))\n",
        "        h_t2, c_t2 = self.lstm2(h_t, (h_t2, c_t2))\n",
        "        output = self.nn(h_t2)\n",
        "        outputs += [output]\n",
        "    for i in range(future):\n",
        "        h_t, c_t = self.lstm1(output, (h_t, c_t))\n",
        "        h_t2, c_t2 = self.lstm2(h_t, (h_t2, c_t2))\n",
        "        output = self.nn(h_t2)\n",
        "        outputs += [output]\n",
        "    outputs = torch.cat(outputs, dim=1)\n",
        "    return outputs\n"
      ],
      "execution_count": 89,
      "outputs": []
    },
    {
      "cell_type": "code",
      "metadata": {
        "id": "c-IHtl2snsLC"
      },
      "source": [
        "# Reference: https://discuss.pytorch.org/t/rmse-loss-function/16540/3\n",
        "class RMSELoss(torch.nn.Module):\n",
        "  def __init__(self, eps=1e-6):\n",
        "      super().__init__()\n",
        "      self.mse = torch.nn.MSELoss()\n",
        "      self.eps = eps\n",
        "      \n",
        "  def forward(self,yhat,y):\n",
        "      loss = torch.sqrt(self.mse(yhat,y) + self.eps)\n",
        "      return loss"
      ],
      "execution_count": 90,
      "outputs": []
    },
    {
      "cell_type": "code",
      "metadata": {
        "id": "a7tVvmnKMh0n"
      },
      "source": [
        "# Reference: https://github.com/pytorch/examples/tree/master/time_sequence_prediction\n",
        "def train(data, hidden_size=51, lr=0.05, epoch=800):\n",
        "  training_input = data[:, :-1]\n",
        "  training_target = data[:, 1:]\n",
        "  model = LSTM_Predictor(hidden_size)\n",
        "  model.train()\n",
        "  model.double().cuda()\n",
        "  criterion = RMSELoss()\n",
        "  optimizer = torch.optim.Adam(model.parameters(), lr)\n",
        "\n",
        "  losses = []\n",
        "\n",
        "  for i in range(epoch):\n",
        "    loss = float(\n",
        "      criterion(\n",
        "        model(training_input),\n",
        "        training_target\n",
        "      ).detach().cpu()\n",
        "    )\n",
        "    if i % 10 == 0:\n",
        "      print('Epoch: {}, loss = {}'.format(i, loss))\n",
        "    losses.append(loss)\n",
        "    \n",
        "    def closure():\n",
        "      optimizer.zero_grad()\n",
        "      out = model(training_input)\n",
        "      loss = criterion(out, training_target)\n",
        "      loss.backward()\n",
        "      return loss\n",
        "    optimizer.step(closure)\n",
        "    \n",
        "  return model, losses\n"
      ],
      "execution_count": 91,
      "outputs": []
    },
    {
      "cell_type": "code",
      "metadata": {
        "id": "0AhcMlbi-xWZ"
      },
      "source": [
        "data = torch.tensor(covid19_sg_df[\"Daily_Confirmed_\"].values).unsqueeze(dim=0).double().cuda()\n",
        "divide_factor = 0.35\n",
        "divider = int(data.size(1) * divide_factor)\n",
        "truncated_data = data[:, :divider]\n",
        "model, losses = train(\n",
        "  truncated_data,\n",
        "  hidden_size=150,\n",
        "  lr=0.003,\n",
        "  epoch=2500\n",
        ")"
      ],
      "execution_count": null,
      "outputs": []
    },
    {
      "cell_type": "code",
      "metadata": {
        "id": "a3QYHBAkK8aR"
      },
      "source": [
        "# plt.plot(losses)"
      ],
      "execution_count": 93,
      "outputs": []
    },
    {
      "cell_type": "code",
      "metadata": {
        "id": "cgYzSLZOPLRT"
      },
      "source": [
        "# torch.save(half_model, \"model_{}_divider.pt\".format(divide_factor))"
      ],
      "execution_count": 94,
      "outputs": []
    },
    {
      "cell_type": "code",
      "metadata": {
        "id": "q4HiqooIAAwQ"
      },
      "source": [
        "def plot_predicted(model, data, future=0):\n",
        "  model.train()\n",
        "  bootstrap_size = 100\n",
        "  # plt.figure(figsize=(9,6))\n",
        "  results = np.empty((bootstrap_size, data.size(1) + future + 1))\n",
        "  for i in range(bootstrap_size):\n",
        "    result = model(data, future=future)[0].cpu().detach().numpy()\n",
        "    result = np.insert(result, 0, data.cpu()[0, 0])\n",
        "    results[i] = result\n",
        "  stdev = results.std(axis=0)\n",
        "  mean = results.mean(axis=0)\n",
        "  max_value = results.max()\n",
        "  plt.plot(covid19_sg_df.index, mean, label=\"Predicted\", color=\"cyan\", alpha=0.8)\n",
        "  plt.fill_between(covid19_sg_df.index, mean-2*stdev, mean+2*stdev, alpha=0.4, color=\"cyan\")\n",
        "  plt.plot(covid19_sg_df.index, covid19_sg_df[\"Daily_Confirmed_\"], label=\"Ground Truth\", color=\"orange\")\n",
        "  plt.axvline(divider, 0, max_value, label=\"train/test divider\", color=\"red\")\n",
        "  plt.legend()"
      ],
      "execution_count": 100,
      "outputs": []
    },
    {
      "cell_type": "code",
      "metadata": {
        "id": "xTXeejwGN-7k",
        "colab": {
          "base_uri": "https://localhost:8080/",
          "height": 267
        },
        "outputId": "43b9df7b-9524-4e4e-85f5-8279b25762e8"
      },
      "source": [
        "plot_predicted(model, truncated_data, future=data.size(1)-divider-1)"
      ],
      "execution_count": 101,
      "outputs": [
        {
          "output_type": "display_data",
          "data": {
            "image/png": "[encoded data removed]",
            "text/plain": [
              "<Figure size 432x288 with 1 Axes>"
            ]
          },
          "metadata": {
            "tags": [],
            "needs_background": "light"
          }
        }
      ]
    },
    {
      "cell_type": "code",
      "metadata": {
        "id": "1CqNBR94YVwx"
      },
      "source": [
        "def test_loss(model, data, training_data, future):\n",
        "  model.eval()\n",
        "  prediction = model(training_data, future=future)[:, training_data.size(1)-1:training_data.size(1)-1+future]\n",
        "  ground_truth = data[:, training_data.size(1):training_data.size(1)+future]\n",
        "  loss_module = RMSELoss()\n",
        "  return float(loss_module(ground_truth, prediction).cpu())"
      ],
      "execution_count": 97,
      "outputs": []
    },
    {
      "cell_type": "code",
      "metadata": {
        "id": "s2Qpe4PUs6PX"
      },
      "source": [
        "# test_loss(model, data, truncated_data, future=1)"
      ],
      "execution_count": 98,
      "outputs": []
    }
  ]
}